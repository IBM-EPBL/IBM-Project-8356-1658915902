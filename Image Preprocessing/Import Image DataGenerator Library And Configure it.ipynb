{
 "cells": [
  {
   "cell_type": "markdown",
   "metadata": {},
   "source": [
    "{ “nbformat”: 4, “nbformat_minor”: 0, “metadata”: { “colab”: {\n",
    "“provenance”: \\[\\] }, “kernelspec”: { “name”: “python3”, “display_name”:\n",
    "“Python 3” }, “language_info”: { “name”: “python” } }, “cells”: \\[ {\n",
    "“cell_type”: “markdown”, “source”: \\[ “Image Preprocessing”, “”, “Import\n",
    "Image Data Generator Library And Configure It” \\], “metadata”: { “id”:\n",
    "“bY75mZDOfiA3” } }, { “cell_type”: “code”, “execution_count”: 1,\n",
    "“metadata”: { “id”: “OpXaXSZAfhSu” }, “outputs”: \\[\\], “source”: \\[\n",
    "“from tensorflow.keras.preprocessing.image import ImageDataGenerator” \\]\n",
    "}, { “cell_type”: “code”, “source”: \\[ “\\# Training Datagen”,\n",
    "“train_datagen =\n",
    "ImageDataGenerator(rescale=1/255,zoom_range=0.2,horizontal_flip=True,vertical_flip=False)”,\n",
    "“\\# Testing Datagen”, “test_datagen = ImageDataGenerator(rescale=1/255)”\n",
    "\\], “metadata”: { “id”: “Zqwd3m0ogE1l” }, “execution_count”: 2,\n",
    "“outputs”: \\[\\] }, { “cell_type”: “code”, “source”: \\[ “import\n",
    "tensorflow as tf”, “import os”, “from tensorflow.keras.models import\n",
    "Sequential”, “from tensorflow.keras.layers import Dense, Conv2D,\n",
    "Flatten, Dropout, MaxPooling2D”from tensorflow.keras.preprocessing.image\n",
    "import ImageDataGenerator“,”import numpy as np“,”import\n",
    "matplotlib.pyplot as plt“,”import IPython.display as display“,”from PIL\n",
    "import Image“,”import pathlib\" \\], “metadata”: { “id”: “ILnISyX3gMJn” },\n",
    "“execution_count”: 3, “outputs”: \\[\\]     }   \\] }"
   ]
  }
 ],
 "nbformat": 4,
 "nbformat_minor": 5,
 "metadata": {}
}
