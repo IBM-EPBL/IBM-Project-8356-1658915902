{
 "cells": [
  {
   "cell_type": "markdown",
   "metadata": {},
   "source": [
    "from flask import Flask, Response, render_template from camera import\n",
    "Video\n",
    "\n",
    "app = Flask(**name**) @app.route(‘/’) def index(): return\n",
    "render_template(‘index.html’)\n",
    "\n",
    "def gen(camera): while True: frame = camera.get_frame() yield(b’–frame’\n",
    "b’Content-Type: image/jpeg’ + frame + b’’)\n",
    "\n",
    "@app.route(‘/video_feed’) def video_feed(): video = Video() return\n",
    "Response(gen(video), mimetype=‘multipart/x-mixed-replace; boundary =\n",
    "frame’)\n",
    "\n",
    "if **name** == ‘**main**’: app.run()"
   ]
  }
 ],
 "nbformat": 4,
 "nbformat_minor": 5,
 "metadata": {}
}
