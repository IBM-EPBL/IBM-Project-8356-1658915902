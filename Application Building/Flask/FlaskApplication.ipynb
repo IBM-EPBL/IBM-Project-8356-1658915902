{
  "nbformat": 4,
  "nbformat_minor": 0,
  "metadata": {
    "colab": {
      "provenance": []
    },
    "kernelspec": {
      "name": "python3",
      "display_name": "Python 3"
    },
    "language_info": {
      "name": "python"
    }
  },
  "cells": [
    {
      "cell_type": "code",
      "execution_count": null,
      "metadata": {
        "colab": {
          "base_uri": "https://localhost:8080/"
        },
        "id": "SS2IiKj2tmwC",
        "outputId": "a3009f74-db88-48da-e3f9-7943a03eda1f"
      },
      "outputs": [
        {
          "output_type": "stream",
          "name": "stdout",
          "text": [
            " * Serving Flask app \"__main__\" (lazy loading)\n",
            " * Environment: production\n",
            "\u001b[31m   WARNING: This is a development server. Do not use it in a production deployment.\u001b[0m\n",
            "\u001b[2m   Use a production WSGI server instead.\u001b[0m\n",
            " * Debug mode: off\n"
          ]
        },
        {
          "output_type": "stream",
          "name": "stderr",
          "text": [
            "INFO:werkzeug: * Running on http://127.0.0.1:5000/ (Press CTRL+C to quit)\n"
          ]
        }
      ],
      "source": [
        "from flask import Flask, Response, render_template\n",
        "import cv2\n",
        "import numpy as np\n",
        "from tensorflow.keras.models import load_model\n",
        "from tensorflow.keras.preprocessing import image\n",
        "import os\n",
        "\n",
        "class Video(object): \n",
        "\tdef __init__(self):\n",
        "\t\tself.video = cv2.VideoCapture(0)\n",
        "\t\tself.roi_start = (50, 150)\n",
        "\t\tself.roi_end = (250, 350)\n",
        "\t\tself.model = load_model('savedModel.h5') # Execute IBM Trained Model\n",
        "\t\tself.index=['A','B','C','D','E','F','G','H','I']\n",
        "\t\tself.y = None\n",
        "\tdef __del__(self):\n",
        "\t\tk = cv2.waitKey(1)\n",
        "\t    \n",
        "\t\tself.video.release()\n",
        "\tdef get_frame(self):\n",
        "\t\tret,frame = self.video.read()\n",
        "\t\tframe = cv2.resize(frame,(640,480))\n",
        "\t\tcopy = frame.copy()\n",
        "\t\tcopy = copy[150:150+200,50:50+200]\n",
        "\t\t# prediction starts \n",
        "\t\tcv2.imwrite('image.jpg',copy)\n",
        "\t\tcopy_img = image.load_img('image.jpg', target_size=(64,64,3))\n",
        "\t\tx = image.img_to_array(copy_img)\n",
        "\t\tx = np.expand_dims(x, axis=0)\n",
        "\t\tpred = np.argmax(self.model.predict(x), axis=1)\n",
        "\t\tself.y = pred[0]\n",
        "\t\tcv2.putText(frame,'The Predicted Alphabet is: '+str(self.index[self.y]),(100,50),cv2.FONT_HERSHEY_SIMPLEX,1,(0,0,0),3)\n",
        "\t\tret,jpg = cv2.imencode('.jpg', frame)\n",
        "\t\treturn jpg.tobytes()\n",
        "\n",
        "app = Flask(__name__)\n",
        "@app.route('/')\n",
        "def index():\n",
        "\treturn render_template('index.html')\n",
        "\n",
        "def gen(object):\n",
        "\twhile True:\n",
        "\t\tframe = object.get_frame()\n",
        "\t\tyield(b'--frame\\r\\n'b'Content-Type: image/jpeg\\r\\n\\r\\n' + frame +\tb'\\r\\n\\r\\n')\n",
        "\n",
        "@app.route('/video_feed')\n",
        "def video_feed():\n",
        "\tvideo = Video()\n",
        "\treturn Response(gen(video), mimetype='multipart/x-mixed-replace; boundary = frame')\n",
        "\n",
        "\n",
        "if __name__ == '__main__':\n",
        "\tapp.run()"
      ]
    }
  ]
}