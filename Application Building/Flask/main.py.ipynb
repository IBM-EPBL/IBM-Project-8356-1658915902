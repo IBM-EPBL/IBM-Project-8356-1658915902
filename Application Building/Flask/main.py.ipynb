{
 "cells": [
  {
   "cell_type": "markdown",
   "metadata": {},
   "source": [
    "import cv2\n",
    "\n",
    "video = cv2.VideoCapture(0)\n",
    "\n",
    "while True: ret, frame = video.read() cv2.imshow(“Frame”, frame) k =\n",
    "cv2.waitKey(1) if k == ord(‘q’): break\n",
    "\n",
    "video.release() cv2.destroyAllWindows()"
   ]
  }
 ],
 "nbformat": 4,
 "nbformat_minor": 5,
 "metadata": {}
}
